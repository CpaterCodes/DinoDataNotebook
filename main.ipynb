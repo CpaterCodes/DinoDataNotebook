{
 "cells": [
  {
   "cell_type": "markdown",
   "id": "f8a747e4-e8c3-4fc8-a68a-38854b0b53bf",
   "metadata": {},
   "source": [
    "# Walking with Data (About Dinosaurs)\n",
    "\n",
    "*Data sourced from [The Exhaustive Dinosaur Dataset](https://www.kaggle.com/datasets/kjanjua/jurassic-park-the-exhaustive-dinosaur-dataset).*\n",
    "*Information dates to 2021 and as such may not be fully up to date; The field is moving very fast!*"
   ]
  },
  {
   "cell_type": "code",
   "execution_count": 2,
   "id": "8f523885-d819-4794-9d16-e9035e82f58b",
   "metadata": {},
   "outputs": [
    {
     "data": {
      "text/plain": [
       "name                                             archaeopteryx\n",
       "diet                                               carnivorous\n",
       "lived_in                                               Germany\n",
       "type                                            small theropod\n",
       "taxonomy     Dinosauria Saurischia Theropoda Neotheropoda T...\n",
       "named_by                                          Mayer (1861)\n",
       "species                                          lithographica\n",
       "link         https://www.nhm.ac.uk/discover/dino-directory/...\n",
       "epoch                                                      NaN\n",
       "mya_lower                                                    0\n",
       "mya_upper                                                    0\n",
       "length_m                                                   0.5\n",
       "Name: 28, dtype: object"
      ]
     },
     "execution_count": 2,
     "metadata": {},
     "output_type": "execute_result"
    }
   ],
   "source": [
    "# Dependencies\n",
    "from pandas import read_csv\n",
    "from data_processors import with_lengths, with_epochs\n",
    "\n",
    "# The base dataset\n",
    "DINO_DATA = read_csv(\"./dinosaur_data.csv\")\n",
    "\n",
    "\n",
    "# Applying lots of data munging: see data_processors for details!\n",
    "with_lengths(\n",
    "    with_epochs(\n",
    "        DINO_DATA\n",
    "    )\n",
    ")"
   ]
  },
  {
   "cell_type": "code",
   "execution_count": null,
   "id": "f7955744-be48-4906-a330-aeef56daa025",
   "metadata": {},
   "outputs": [],
   "source": []
  },
  {
   "cell_type": "code",
   "execution_count": null,
   "id": "be2e1cf8-aa97-4608-aef1-e606dec11401",
   "metadata": {},
   "outputs": [],
   "source": []
  }
 ],
 "metadata": {
  "kernelspec": {
   "display_name": "Python 3 (ipykernel)",
   "language": "python",
   "name": "python3"
  },
  "language_info": {
   "codemirror_mode": {
    "name": "ipython",
    "version": 3
   },
   "file_extension": ".py",
   "mimetype": "text/x-python",
   "name": "python",
   "nbconvert_exporter": "python",
   "pygments_lexer": "ipython3",
   "version": "3.11.5"
  }
 },
 "nbformat": 4,
 "nbformat_minor": 5
}
